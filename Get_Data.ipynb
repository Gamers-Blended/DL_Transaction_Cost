{
 "cells": [
  {
   "cell_type": "markdown",
   "metadata": {},
   "source": [
    "# Import Libraries"
   ]
  },
  {
   "cell_type": "code",
   "execution_count": 1,
   "metadata": {},
   "outputs": [],
   "source": [
    "import yfinance as yf\n",
    "import pandas as pd\n",
    "from functools import reduce"
   ]
  },
  {
   "cell_type": "markdown",
   "metadata": {},
   "source": [
    "Get data from Yahoo Finance <br>\n",
    "Sample period: 2000-09-01 to 2009-01-23 (as stated by the paper)\n",
    "## Gold"
   ]
  },
  {
   "cell_type": "code",
   "execution_count": 2,
   "metadata": {},
   "outputs": [
    {
     "name": "stdout",
     "output_type": "stream",
     "text": [
      "{'exchange': 'CMX', 'shortName': 'Gold Feb 22', 'exchangeTimezoneName': 'America/New_York', 'exchangeTimezoneShortName': 'EST', 'isEsgPopulated': False, 'gmtOffSetMilliseconds': '-18000000', 'underlyingSymbol': 'GCG22.CMX', 'quoteType': 'FUTURE', 'symbol': 'GC=F', 'underlyingExchangeSymbol': 'GCG22.CMX', 'headSymbol': 'GC=F', 'market': 'us24_market', 'previousClose': 1789.2, 'regularMarketOpen': 1791, 'twoHundredDayAverage': 1798.297, 'trailingAnnualDividendYield': None, 'payoutRatio': None, 'volume24Hr': None, 'regularMarketDayHigh': 1798.4, 'navPrice': None, 'averageDailyVolume10Day': 152, 'totalAssets': None, 'regularMarketPreviousClose': 1789.2, 'fiftyDayAverage': 1804.212, 'trailingAnnualDividendRate': None, 'open': 1791, 'toCurrency': None, 'averageVolume10days': 152, 'expireDate': 1645660800, 'yield': None, 'algorithm': None, 'dividendRate': None, 'exDividendDate': None, 'beta': None, 'circulatingSupply': None, 'startDate': None, 'regularMarketDayLow': 1781.3, 'priceHint': 2, 'currency': 'USD', 'regularMarketVolume': 218941, 'lastMarket': None, 'maxSupply': None, 'openInterest': 326320, 'marketCap': None, 'volumeAllCurrencies': None, 'strikePrice': None, 'averageVolume': 3715, 'priceToSalesTrailing12Months': None, 'dayLow': 1781.3, 'ask': 1796.6, 'ytdReturn': None, 'askSize': 900, 'volume': 218941, 'fiftyTwoWeekHigh': 1916.2, 'forwardPE': None, 'maxAge': 1, 'fromCurrency': None, 'fiveYearAvgDividendYield': None, 'fiftyTwoWeekLow': 1673.7, 'bid': 1796, 'tradeable': False, 'dividendYield': None, 'bidSize': 1400, 'dayHigh': 1798.4, 'regularMarketPrice': 1796.5, 'logo_url': ''}\n"
     ]
    }
   ],
   "source": [
    "# gold\n",
    "gold = yf.Ticker(\"GC=F\")\n",
    "print(gold.info)"
   ]
  },
  {
   "cell_type": "code",
   "execution_count": 3,
   "metadata": {},
   "outputs": [
    {
     "data": {
      "text/plain": [
       "Date\n",
       "2000-08-31    278.299988\n",
       "2000-09-01    277.000000\n",
       "2000-09-05    275.799988\n",
       "2000-09-06    274.200012\n",
       "2000-09-07    274.000000\n",
       "                 ...    \n",
       "2009-01-15    806.700012\n",
       "2009-01-16    839.299988\n",
       "2009-01-20    854.599976\n",
       "2009-01-21    849.599976\n",
       "2009-01-22    858.200012\n",
       "Name: close_gold, Length: 2056, dtype: float64"
      ]
     },
     "execution_count": 3,
     "metadata": {},
     "output_type": "execute_result"
    }
   ],
   "source": [
    "gold_historical = gold.history(start=\"2000-09-01\", end=\"2009-01-23\", interval=\"1d\")\n",
    "gold_historical_close = gold_historical['Close']\n",
    "gold_historical_close.rename('close_gold', inplace=True)\n",
    "gold_historical_close"
   ]
  },
  {
   "cell_type": "markdown",
   "metadata": {},
   "source": [
    "## Silver"
   ]
  },
  {
   "cell_type": "code",
   "execution_count": 5,
   "metadata": {},
   "outputs": [
    {
     "data": {
      "text/plain": [
       "Date\n",
       "2000-08-31     5.003\n",
       "2000-09-01     5.004\n",
       "2000-09-05     4.998\n",
       "2000-09-06     4.983\n",
       "2000-09-07     4.935\n",
       "               ...  \n",
       "2009-01-15    10.420\n",
       "2009-01-16    11.195\n",
       "2009-01-20    11.158\n",
       "2009-01-21    11.315\n",
       "2009-01-22    11.357\n",
       "Name: close_silver, Length: 2050, dtype: float64"
      ]
     },
     "execution_count": 5,
     "metadata": {},
     "output_type": "execute_result"
    }
   ],
   "source": [
    "# silver\n",
    "silver = yf.Ticker(\"SI=F\")\n",
    "silver_historical = silver.history(start=\"2000-09-01\", end=\"2009-01-23\", interval=\"1d\")\n",
    "silver_historical_close = silver_historical[\"Close\"]\n",
    "silver_historical_close.rename('close_silver', inplace=True)\n",
    "silver_historical_close"
   ]
  },
  {
   "cell_type": "markdown",
   "metadata": {},
   "source": [
    "## Aluminum (no data)"
   ]
  },
  {
   "cell_type": "code",
   "execution_count": 7,
   "metadata": {},
   "outputs": [
    {
     "name": "stdout",
     "output_type": "stream",
     "text": [
      "- ALI=F: Data doesn't exist for startDate = 967737600, endDate = 1232640000\n"
     ]
    },
    {
     "data": {
      "text/html": [
       "<div>\n",
       "<style scoped>\n",
       "    .dataframe tbody tr th:only-of-type {\n",
       "        vertical-align: middle;\n",
       "    }\n",
       "\n",
       "    .dataframe tbody tr th {\n",
       "        vertical-align: top;\n",
       "    }\n",
       "\n",
       "    .dataframe thead th {\n",
       "        text-align: right;\n",
       "    }\n",
       "</style>\n",
       "<table border=\"1\" class=\"dataframe\">\n",
       "  <thead>\n",
       "    <tr style=\"text-align: right;\">\n",
       "      <th></th>\n",
       "      <th>Open</th>\n",
       "      <th>High</th>\n",
       "      <th>Low</th>\n",
       "      <th>Close</th>\n",
       "      <th>Adj Close</th>\n",
       "      <th>Volume</th>\n",
       "    </tr>\n",
       "    <tr>\n",
       "      <th>Date</th>\n",
       "      <th></th>\n",
       "      <th></th>\n",
       "      <th></th>\n",
       "      <th></th>\n",
       "      <th></th>\n",
       "      <th></th>\n",
       "    </tr>\n",
       "  </thead>\n",
       "  <tbody>\n",
       "  </tbody>\n",
       "</table>\n",
       "</div>"
      ],
      "text/plain": [
       "Empty DataFrame\n",
       "Columns: [Open, High, Low, Close, Adj Close, Volume]\n",
       "Index: []"
      ]
     },
     "execution_count": 7,
     "metadata": {},
     "output_type": "execute_result"
    }
   ],
   "source": [
    "# aluminum\n",
    "aluminum = yf.Ticker(\"ALI=F\")\n",
    "aluminum_historical = aluminum.history(start=\"2000-09-01\", end=\"2009-01-23\", interval=\"1d\")\n",
    "aluminum_historical"
   ]
  },
  {
   "cell_type": "markdown",
   "metadata": {},
   "source": [
    "## Copper"
   ]
  },
  {
   "cell_type": "code",
   "execution_count": 8,
   "metadata": {},
   "outputs": [
    {
     "data": {
      "text/plain": [
       "Date\n",
       "2000-08-31    0.8850\n",
       "2000-09-01    0.8890\n",
       "2000-09-05    0.9060\n",
       "2000-09-06    0.9015\n",
       "2000-09-07    0.9060\n",
       "               ...  \n",
       "2009-01-15    1.4385\n",
       "2009-01-16    1.5135\n",
       "2009-01-20    1.4900\n",
       "2009-01-21    1.4190\n",
       "2009-01-22    1.3810\n",
       "Name: close_copper, Length: 2099, dtype: float64"
      ]
     },
     "execution_count": 8,
     "metadata": {},
     "output_type": "execute_result"
    }
   ],
   "source": [
    "# copper\n",
    "copper = yf.Ticker(\"HG=F\")\n",
    "copper_historical = copper.history(start=\"2000-09-01\", end=\"2009-01-23\", interval=\"1d\")\n",
    "copper_historical_close = copper_historical['Close']\n",
    "copper_historical_close.rename('close_copper', inplace=True)\n",
    "copper_historical_close"
   ]
  },
  {
   "cell_type": "markdown",
   "metadata": {},
   "source": [
    "## Crude Oil"
   ]
  },
  {
   "cell_type": "code",
   "execution_count": 10,
   "metadata": {},
   "outputs": [
    {
     "data": {
      "text/plain": [
       "Date\n",
       "2000-08-31    33.099998\n",
       "2000-09-01    33.380001\n",
       "2000-09-05    33.799999\n",
       "2000-09-06    34.950001\n",
       "2000-09-07    35.330002\n",
       "                ...    \n",
       "2009-01-15    35.400002\n",
       "2009-01-16    36.509998\n",
       "2009-01-20    38.740002\n",
       "2009-01-21    43.549999\n",
       "2009-01-22    43.669998\n",
       "Name: close_oil, Length: 2099, dtype: float64"
      ]
     },
     "execution_count": 10,
     "metadata": {},
     "output_type": "execute_result"
    }
   ],
   "source": [
    "# crude oil\n",
    "oil = yf.Ticker(\"CL=F\")\n",
    "oil_historical = oil.history(start=\"2000-09-01\", end=\"2009-01-23\", interval=\"1d\")\n",
    "oil_historical_close = oil_historical['Close']\n",
    "oil_historical_close.rename('close_oil', inplace=True)\n",
    "oil_historical_close"
   ]
  },
  {
   "cell_type": "markdown",
   "metadata": {},
   "source": [
    "## Natural Gas"
   ]
  },
  {
   "cell_type": "code",
   "execution_count": 12,
   "metadata": {},
   "outputs": [
    {
     "data": {
      "text/plain": [
       "Date\n",
       "2000-08-31    4.780\n",
       "2000-09-01    4.835\n",
       "2000-09-05    4.960\n",
       "2000-09-06    5.065\n",
       "2000-09-07    4.998\n",
       "              ...  \n",
       "2009-01-15    4.843\n",
       "2009-01-16    4.801\n",
       "2009-01-20    4.642\n",
       "2009-01-21    4.780\n",
       "2009-01-22    4.681\n",
       "Name: close_gas, Length: 2100, dtype: float64"
      ]
     },
     "execution_count": 12,
     "metadata": {},
     "output_type": "execute_result"
    }
   ],
   "source": [
    "# natural gas\n",
    "gas = yf.Ticker(\"NG=F\")\n",
    "gas_historical = gas.history(start=\"2000-09-01\", end=\"2009-01-23\", interval=\"1d\")\n",
    "gas_historical_close = gas_historical['Close']\n",
    "gas_historical_close.rename('close_gas', inplace=True)\n",
    "gas_historical_close"
   ]
  },
  {
   "cell_type": "code",
   "execution_count": 14,
   "metadata": {},
   "outputs": [],
   "source": [
    "# import requests\n",
    "\n",
    "# api_key = \n",
    "# ticker = 'ALI=F'\n",
    "# url = 'https://www.alphavantage.co/query?function=TIME_SERIES_DAILY&symbol=' + ticker + '&outputsize=full' + '&apikey=' + api_key\n",
    "\n",
    "# # https://www.alphavantage.co/query?function=TIME_SERIES_DAILY&symbol=IBM&outputsize=full&apikey=demo\n",
    "# r = requests.get(url)\n",
    "# data = r.json()\n",
    "\n",
    "# print(url)\n",
    "# print(data)"
   ]
  },
  {
   "cell_type": "markdown",
   "metadata": {},
   "source": [
    "# Merge all data into single dataframe"
   ]
  },
  {
   "cell_type": "code",
   "execution_count": 15,
   "metadata": {},
   "outputs": [
    {
     "data": {
      "text/html": [
       "<div>\n",
       "<style scoped>\n",
       "    .dataframe tbody tr th:only-of-type {\n",
       "        vertical-align: middle;\n",
       "    }\n",
       "\n",
       "    .dataframe tbody tr th {\n",
       "        vertical-align: top;\n",
       "    }\n",
       "\n",
       "    .dataframe thead th {\n",
       "        text-align: right;\n",
       "    }\n",
       "</style>\n",
       "<table border=\"1\" class=\"dataframe\">\n",
       "  <thead>\n",
       "    <tr style=\"text-align: right;\">\n",
       "      <th></th>\n",
       "      <th>close_gold</th>\n",
       "      <th>close_silver</th>\n",
       "      <th>close_copper</th>\n",
       "      <th>close_oil</th>\n",
       "      <th>close_gas</th>\n",
       "    </tr>\n",
       "    <tr>\n",
       "      <th>Date</th>\n",
       "      <th></th>\n",
       "      <th></th>\n",
       "      <th></th>\n",
       "      <th></th>\n",
       "      <th></th>\n",
       "    </tr>\n",
       "  </thead>\n",
       "  <tbody>\n",
       "    <tr>\n",
       "      <th>2000-08-31</th>\n",
       "      <td>278.299988</td>\n",
       "      <td>5.003</td>\n",
       "      <td>0.8850</td>\n",
       "      <td>33.099998</td>\n",
       "      <td>4.780</td>\n",
       "    </tr>\n",
       "    <tr>\n",
       "      <th>2000-09-01</th>\n",
       "      <td>277.000000</td>\n",
       "      <td>5.004</td>\n",
       "      <td>0.8890</td>\n",
       "      <td>33.380001</td>\n",
       "      <td>4.835</td>\n",
       "    </tr>\n",
       "    <tr>\n",
       "      <th>2000-09-05</th>\n",
       "      <td>275.799988</td>\n",
       "      <td>4.998</td>\n",
       "      <td>0.9060</td>\n",
       "      <td>33.799999</td>\n",
       "      <td>4.960</td>\n",
       "    </tr>\n",
       "    <tr>\n",
       "      <th>2000-09-06</th>\n",
       "      <td>274.200012</td>\n",
       "      <td>4.983</td>\n",
       "      <td>0.9015</td>\n",
       "      <td>34.950001</td>\n",
       "      <td>5.065</td>\n",
       "    </tr>\n",
       "    <tr>\n",
       "      <th>2000-09-07</th>\n",
       "      <td>274.000000</td>\n",
       "      <td>4.935</td>\n",
       "      <td>0.9060</td>\n",
       "      <td>35.330002</td>\n",
       "      <td>4.998</td>\n",
       "    </tr>\n",
       "    <tr>\n",
       "      <th>...</th>\n",
       "      <td>...</td>\n",
       "      <td>...</td>\n",
       "      <td>...</td>\n",
       "      <td>...</td>\n",
       "      <td>...</td>\n",
       "    </tr>\n",
       "    <tr>\n",
       "      <th>2009-01-15</th>\n",
       "      <td>806.700012</td>\n",
       "      <td>10.420</td>\n",
       "      <td>1.4385</td>\n",
       "      <td>35.400002</td>\n",
       "      <td>4.843</td>\n",
       "    </tr>\n",
       "    <tr>\n",
       "      <th>2009-01-16</th>\n",
       "      <td>839.299988</td>\n",
       "      <td>11.195</td>\n",
       "      <td>1.5135</td>\n",
       "      <td>36.509998</td>\n",
       "      <td>4.801</td>\n",
       "    </tr>\n",
       "    <tr>\n",
       "      <th>2009-01-20</th>\n",
       "      <td>854.599976</td>\n",
       "      <td>11.158</td>\n",
       "      <td>1.4900</td>\n",
       "      <td>38.740002</td>\n",
       "      <td>4.642</td>\n",
       "    </tr>\n",
       "    <tr>\n",
       "      <th>2009-01-21</th>\n",
       "      <td>849.599976</td>\n",
       "      <td>11.315</td>\n",
       "      <td>1.4190</td>\n",
       "      <td>43.549999</td>\n",
       "      <td>4.780</td>\n",
       "    </tr>\n",
       "    <tr>\n",
       "      <th>2009-01-22</th>\n",
       "      <td>858.200012</td>\n",
       "      <td>11.357</td>\n",
       "      <td>1.3810</td>\n",
       "      <td>43.669998</td>\n",
       "      <td>4.681</td>\n",
       "    </tr>\n",
       "  </tbody>\n",
       "</table>\n",
       "<p>2056 rows × 5 columns</p>\n",
       "</div>"
      ],
      "text/plain": [
       "            close_gold  close_silver  close_copper  close_oil  close_gas\n",
       "Date                                                                    \n",
       "2000-08-31  278.299988         5.003        0.8850  33.099998      4.780\n",
       "2000-09-01  277.000000         5.004        0.8890  33.380001      4.835\n",
       "2000-09-05  275.799988         4.998        0.9060  33.799999      4.960\n",
       "2000-09-06  274.200012         4.983        0.9015  34.950001      5.065\n",
       "2000-09-07  274.000000         4.935        0.9060  35.330002      4.998\n",
       "...                ...           ...           ...        ...        ...\n",
       "2009-01-15  806.700012        10.420        1.4385  35.400002      4.843\n",
       "2009-01-16  839.299988        11.195        1.5135  36.509998      4.801\n",
       "2009-01-20  854.599976        11.158        1.4900  38.740002      4.642\n",
       "2009-01-21  849.599976        11.315        1.4190  43.549999      4.780\n",
       "2009-01-22  858.200012        11.357        1.3810  43.669998      4.681\n",
       "\n",
       "[2056 rows x 5 columns]"
      ]
     },
     "execution_count": 15,
     "metadata": {},
     "output_type": "execute_result"
    }
   ],
   "source": [
    "data_frames = [gold_historical_close, silver_historical_close, copper_historical_close, oil_historical_close, gas_historical_close]\n",
    "\n",
    "final_df = reduce(lambda  left,right: pd.merge(left,right,on=['Date'],\n",
    "                                            how='left'), data_frames)\n",
    "\n",
    "final_df"
   ]
  },
  {
   "cell_type": "code",
   "execution_count": 16,
   "metadata": {},
   "outputs": [],
   "source": [
    "# export data into csv\n",
    "final_df.to_csv('data.csv', index = False)"
   ]
  },
  {
   "cell_type": "code",
   "execution_count": null,
   "metadata": {},
   "outputs": [],
   "source": []
  }
 ],
 "metadata": {
  "kernelspec": {
   "display_name": "Python 3",
   "language": "python",
   "name": "python3"
  },
  "language_info": {
   "codemirror_mode": {
    "name": "ipython",
    "version": 3
   },
   "file_extension": ".py",
   "mimetype": "text/x-python",
   "name": "python",
   "nbconvert_exporter": "python",
   "pygments_lexer": "ipython3",
   "version": "3.8.5"
  }
 },
 "nbformat": 4,
 "nbformat_minor": 4
}
